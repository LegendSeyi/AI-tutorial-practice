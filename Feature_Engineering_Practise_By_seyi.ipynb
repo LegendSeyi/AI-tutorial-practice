{
  "nbformat": 4,
  "nbformat_minor": 0,
  "metadata": {
    "colab": {
      "provenance": [],
      "authorship_tag": "ABX9TyMi1yIiyiHLTyJfM4mGAF44",
      "include_colab_link": true
    },
    "kernelspec": {
      "name": "python3",
      "display_name": "Python 3"
    },
    "language_info": {
      "name": "python"
    }
  },
  "cells": [
    {
      "cell_type": "markdown",
      "metadata": {
        "id": "view-in-github",
        "colab_type": "text"
      },
      "source": [
        "<a href=\"https://colab.research.google.com/github/LegendSeyi/AI-tutorial-practice/blob/main/Feature_Engineering_Practise_By_seyi.ipynb\" target=\"_parent\"><img src=\"https://colab.research.google.com/assets/colab-badge.svg\" alt=\"Open In Colab\"/></a>"
      ]
    },
    {
      "cell_type": "markdown",
      "source": [
        "# **Feature Engineering Practice By Oluwaseyi Adeyemi**"
      ],
      "metadata": {
        "id": "Orz0h0u8bkwW"
      }
    },
    {
      "cell_type": "code",
      "source": [
        "# importing libaries\n",
        "import pandas as pd\n",
        "import numpy as np\n",
        "import matplotlib.pyplot as plt\n",
        "import seaborn as sns\n"
      ],
      "metadata": {
        "id": "g0yLDCX2budG"
      },
      "execution_count": 1,
      "outputs": []
    },
    {
      "cell_type": "code",
      "source": [],
      "metadata": {
        "id": "pyMpOj7JcM66"
      },
      "execution_count": null,
      "outputs": []
    }
  ]
}